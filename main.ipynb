{
 "cells": [
  {
   "cell_type": "code",
   "execution_count": 1,
   "metadata": {},
   "outputs": [],
   "source": [
    "import tensorflow as tf\n",
    "from tensorflow.keras.datasets import cifar10\n",
    "from tensorflow.keras.models import Sequential\n",
    "from tensorflow.keras.layers import Conv2D, MaxPooling2D, Flatten, Dense\n",
    "from tensorflow.keras.optimizers import Adam"
   ]
  },
  {
   "cell_type": "code",
   "execution_count": 2,
   "metadata": {},
   "outputs": [
    {
     "name": "stdout",
     "output_type": "stream",
     "text": [
      "Downloading data from https://www.cs.toronto.edu/~kriz/cifar-10-python.tar.gz\n",
      "170498071/170498071 [==============================] - 24s 0us/step\n"
     ]
    }
   ],
   "source": [
    "# Load the CIFAR-10 dataset\n",
    "(x_train, y_train), (x_test, y_test) = cifar10.load_data()\n",
    "\n",
    "# Normalize the pixel values to be between 0 and 1\n",
    "x_train = x_train / 255.0\n",
    "x_test = x_test / 255.0\n",
    "\n",
    "# Convert the labels to one-hot encoding\n",
    "num_classes = 10\n",
    "y_train = tf.keras.utils.to_categorical(y_train, num_classes)\n",
    "y_test = tf.keras.utils.to_categorical(y_test, num_classes)"
   ]
  },
  {
   "cell_type": "code",
   "execution_count": 22,
   "metadata": {},
   "outputs": [],
   "source": [
    "model = Sequential([\n",
    "    Conv2D(64, (5, 5), activation='relu', input_shape=(32, 32, 3)),\n",
    "    MaxPooling2D((2, 2)),\n",
    "    Conv2D(64, (3, 3), activation='relu'),\n",
    "    MaxPooling2D((2, 2)),\n",
    "    Flatten(),\n",
    "    Dense(128, activation='relu'),\n",
    "    Dense(num_classes, activation='softmax')\n",
    "])"
   ]
  },
  {
   "cell_type": "code",
   "execution_count": 24,
   "metadata": {},
   "outputs": [],
   "source": [
    "# Compile the model\n",
    "optimizer = Adam(learning_rate=0.001)\n",
    "model.compile(optimizer=optimizer,\n",
    "              loss='categorical_crossentropy',\n",
    "              metrics=['accuracy'])"
   ]
  },
  {
   "cell_type": "code",
   "execution_count": 25,
   "metadata": {},
   "outputs": [
    {
     "name": "stdout",
     "output_type": "stream",
     "text": [
      "Epoch 1/50\n",
      "391/391 [==============================] - 26s 64ms/step - loss: 1.5584 - accuracy: 0.4373 - val_loss: 1.3220 - val_accuracy: 0.5185\n",
      "Epoch 2/50\n",
      "391/391 [==============================] - 29s 74ms/step - loss: 1.2222 - accuracy: 0.5677 - val_loss: 1.1572 - val_accuracy: 0.5976\n",
      "Epoch 3/50\n",
      "391/391 [==============================] - 30s 78ms/step - loss: 1.0832 - accuracy: 0.6222 - val_loss: 1.0345 - val_accuracy: 0.6368\n",
      "Epoch 4/50\n",
      "391/391 [==============================] - 30s 78ms/step - loss: 0.9649 - accuracy: 0.6618 - val_loss: 1.0283 - val_accuracy: 0.6408\n",
      "Epoch 5/50\n",
      "391/391 [==============================] - 30s 78ms/step - loss: 0.8936 - accuracy: 0.6893 - val_loss: 0.9429 - val_accuracy: 0.6775\n",
      "Epoch 6/50\n",
      "391/391 [==============================] - 31s 80ms/step - loss: 0.8217 - accuracy: 0.7155 - val_loss: 0.8979 - val_accuracy: 0.6921\n",
      "Epoch 7/50\n",
      "391/391 [==============================] - 30s 77ms/step - loss: 0.7584 - accuracy: 0.7371 - val_loss: 0.9175 - val_accuracy: 0.6871\n",
      "Epoch 8/50\n",
      "391/391 [==============================] - 31s 78ms/step - loss: 0.7058 - accuracy: 0.7548 - val_loss: 0.8851 - val_accuracy: 0.7043\n",
      "Epoch 9/50\n",
      "391/391 [==============================] - 30s 76ms/step - loss: 0.6557 - accuracy: 0.7715 - val_loss: 0.8795 - val_accuracy: 0.7073\n",
      "Epoch 10/50\n",
      "391/391 [==============================] - 29s 75ms/step - loss: 0.6080 - accuracy: 0.7881 - val_loss: 0.8819 - val_accuracy: 0.7081\n",
      "Epoch 11/50\n",
      "391/391 [==============================] - 31s 78ms/step - loss: 0.5604 - accuracy: 0.8051 - val_loss: 0.9164 - val_accuracy: 0.6958\n",
      "Epoch 12/50\n",
      "391/391 [==============================] - 30s 77ms/step - loss: 0.5199 - accuracy: 0.8163 - val_loss: 0.9400 - val_accuracy: 0.7036\n",
      "Epoch 13/50\n",
      "391/391 [==============================] - 32s 82ms/step - loss: 0.4834 - accuracy: 0.8297 - val_loss: 0.9171 - val_accuracy: 0.7046\n",
      "Epoch 14/50\n",
      "391/391 [==============================] - 32s 82ms/step - loss: 0.4406 - accuracy: 0.8472 - val_loss: 0.9877 - val_accuracy: 0.7022\n",
      "Epoch 15/50\n",
      "391/391 [==============================] - 32s 82ms/step - loss: 0.4050 - accuracy: 0.8583 - val_loss: 0.9837 - val_accuracy: 0.7036\n",
      "Epoch 16/50\n",
      "391/391 [==============================] - 31s 79ms/step - loss: 0.3681 - accuracy: 0.8718 - val_loss: 1.0536 - val_accuracy: 0.7029\n",
      "Epoch 17/50\n",
      "391/391 [==============================] - 32s 81ms/step - loss: 0.3347 - accuracy: 0.8823 - val_loss: 1.0627 - val_accuracy: 0.7065\n",
      "Epoch 18/50\n",
      "391/391 [==============================] - 32s 81ms/step - loss: 0.3056 - accuracy: 0.8940 - val_loss: 1.1160 - val_accuracy: 0.7042\n",
      "Epoch 19/50\n",
      "391/391 [==============================] - 30s 78ms/step - loss: 0.2749 - accuracy: 0.9031 - val_loss: 1.1816 - val_accuracy: 0.6928\n",
      "Epoch 20/50\n",
      "391/391 [==============================] - 33s 84ms/step - loss: 0.2502 - accuracy: 0.9152 - val_loss: 1.2293 - val_accuracy: 0.6981\n",
      "Epoch 21/50\n",
      "391/391 [==============================] - 32s 81ms/step - loss: 0.2192 - accuracy: 0.9249 - val_loss: 1.3510 - val_accuracy: 0.6933\n",
      "Epoch 22/50\n",
      "391/391 [==============================] - 32s 82ms/step - loss: 0.2026 - accuracy: 0.9291 - val_loss: 1.3935 - val_accuracy: 0.6869\n",
      "Epoch 23/50\n",
      "391/391 [==============================] - 27s 69ms/step - loss: 0.1771 - accuracy: 0.9389 - val_loss: 1.5034 - val_accuracy: 0.6964\n",
      "Epoch 24/50\n",
      "391/391 [==============================] - 23s 60ms/step - loss: 0.1601 - accuracy: 0.9449 - val_loss: 1.5051 - val_accuracy: 0.6959\n",
      "Epoch 25/50\n",
      "391/391 [==============================] - 28s 70ms/step - loss: 0.1417 - accuracy: 0.9519 - val_loss: 1.5465 - val_accuracy: 0.6939\n",
      "Epoch 26/50\n",
      "391/391 [==============================] - 32s 81ms/step - loss: 0.1253 - accuracy: 0.9575 - val_loss: 1.7076 - val_accuracy: 0.6960\n",
      "Epoch 27/50\n",
      "391/391 [==============================] - 31s 80ms/step - loss: 0.1228 - accuracy: 0.9574 - val_loss: 1.7193 - val_accuracy: 0.6875\n",
      "Epoch 28/50\n",
      "391/391 [==============================] - 32s 82ms/step - loss: 0.1259 - accuracy: 0.9550 - val_loss: 1.8523 - val_accuracy: 0.6856\n",
      "Epoch 29/50\n",
      "391/391 [==============================] - 32s 83ms/step - loss: 0.0997 - accuracy: 0.9660 - val_loss: 1.8719 - val_accuracy: 0.6903\n",
      "Epoch 30/50\n",
      "391/391 [==============================] - 30s 77ms/step - loss: 0.0910 - accuracy: 0.9687 - val_loss: 1.9308 - val_accuracy: 0.6909\n",
      "Epoch 31/50\n",
      "391/391 [==============================] - 31s 79ms/step - loss: 0.1028 - accuracy: 0.9629 - val_loss: 2.0442 - val_accuracy: 0.6888\n",
      "Epoch 32/50\n",
      "391/391 [==============================] - 31s 78ms/step - loss: 0.0929 - accuracy: 0.9670 - val_loss: 2.0359 - val_accuracy: 0.6895\n",
      "Epoch 33/50\n",
      "391/391 [==============================] - 31s 80ms/step - loss: 0.0823 - accuracy: 0.9707 - val_loss: 2.1935 - val_accuracy: 0.6816\n",
      "Epoch 34/50\n",
      "391/391 [==============================] - 32s 83ms/step - loss: 0.0856 - accuracy: 0.9701 - val_loss: 2.1243 - val_accuracy: 0.6898\n",
      "Epoch 35/50\n",
      "391/391 [==============================] - 32s 83ms/step - loss: 0.0746 - accuracy: 0.9739 - val_loss: 2.2294 - val_accuracy: 0.6918\n",
      "Epoch 36/50\n",
      "391/391 [==============================] - 30s 77ms/step - loss: 0.0705 - accuracy: 0.9756 - val_loss: 2.3196 - val_accuracy: 0.6803\n",
      "Epoch 37/50\n",
      "391/391 [==============================] - 31s 80ms/step - loss: 0.0710 - accuracy: 0.9759 - val_loss: 2.4112 - val_accuracy: 0.6845\n",
      "Epoch 38/50\n",
      "391/391 [==============================] - 33s 84ms/step - loss: 0.0854 - accuracy: 0.9701 - val_loss: 2.3448 - val_accuracy: 0.6897\n",
      "Epoch 39/50\n",
      "391/391 [==============================] - 32s 83ms/step - loss: 0.0645 - accuracy: 0.9772 - val_loss: 2.5033 - val_accuracy: 0.6918\n",
      "Epoch 40/50\n",
      "391/391 [==============================] - 31s 79ms/step - loss: 0.0611 - accuracy: 0.9788 - val_loss: 2.5793 - val_accuracy: 0.6817\n",
      "Epoch 41/50\n",
      "391/391 [==============================] - 31s 79ms/step - loss: 0.0719 - accuracy: 0.9754 - val_loss: 2.6412 - val_accuracy: 0.6753\n",
      "Epoch 42/50\n",
      "391/391 [==============================] - 32s 83ms/step - loss: 0.0747 - accuracy: 0.9739 - val_loss: 2.5632 - val_accuracy: 0.6872\n",
      "Epoch 43/50\n",
      "391/391 [==============================] - 32s 82ms/step - loss: 0.0411 - accuracy: 0.9859 - val_loss: 2.6450 - val_accuracy: 0.6903\n",
      "Epoch 44/50\n",
      "391/391 [==============================] - 33s 84ms/step - loss: 0.0522 - accuracy: 0.9817 - val_loss: 2.8088 - val_accuracy: 0.6827\n",
      "Epoch 45/50\n",
      "391/391 [==============================] - 35s 89ms/step - loss: 0.0865 - accuracy: 0.9707 - val_loss: 2.7624 - val_accuracy: 0.6844\n",
      "Epoch 46/50\n",
      "391/391 [==============================] - 30s 77ms/step - loss: 0.0512 - accuracy: 0.9830 - val_loss: 2.7925 - val_accuracy: 0.6843\n",
      "Epoch 47/50\n",
      "391/391 [==============================] - 30s 76ms/step - loss: 0.0462 - accuracy: 0.9839 - val_loss: 2.8981 - val_accuracy: 0.6774\n",
      "Epoch 48/50\n",
      "391/391 [==============================] - 30s 76ms/step - loss: 0.0608 - accuracy: 0.9790 - val_loss: 3.0339 - val_accuracy: 0.6795\n",
      "Epoch 49/50\n",
      "391/391 [==============================] - 31s 80ms/step - loss: 0.0499 - accuracy: 0.9828 - val_loss: 2.9704 - val_accuracy: 0.6879\n",
      "Epoch 50/50\n",
      "391/391 [==============================] - 30s 78ms/step - loss: 0.0746 - accuracy: 0.9744 - val_loss: 2.8664 - val_accuracy: 0.6828\n"
     ]
    },
    {
     "data": {
      "text/plain": [
       "<keras.src.callbacks.History at 0x27314b5d450>"
      ]
     },
     "execution_count": 25,
     "metadata": {},
     "output_type": "execute_result"
    }
   ],
   "source": [
    "# Train the model\n",
    "epochs = 50\n",
    "batch_size = 128\n",
    "\n",
    "model.fit(x_train, y_train,\n",
    "          batch_size=batch_size,\n",
    "          epochs=epochs,\n",
    "          validation_data=(x_test, y_test),\n",
    "          verbose=1)"
   ]
  },
  {
   "cell_type": "code",
   "execution_count": 26,
   "metadata": {},
   "outputs": [
    {
     "name": "stdout",
     "output_type": "stream",
     "text": [
      "Test accuracy: 0.6828\n"
     ]
    }
   ],
   "source": [
    "# Evaluate the model on the test set\n",
    "test_loss, test_acc = model.evaluate(x_test, y_test, verbose=0)\n",
    "print(f'Test accuracy: {test_acc:.4f}')"
   ]
  },
  {
   "cell_type": "code",
   "execution_count": 52,
   "metadata": {},
   "outputs": [],
   "source": [
    "from tensorflow.keras.datasets import cifar10\n",
    "from sklearn.model_selection import train_test_split\n",
    "\n",
    "# Load the CIFAR-10 dataset\n",
    "(x_train_full, y_train_full), (x_test, y_test) = cifar10.load_data()\n",
    "\n",
    "# Normalize the pixel values\n",
    "x_train_full = x_train_full / 255.0\n",
    "x_test = x_test / 255.0\n",
    "\n",
    "# Convert the labels to one-hot encoding\n",
    "num_classes = 10\n",
    "y_train_full = tf.keras.utils.to_categorical(y_train_full, num_classes)\n",
    "y_test = tf.keras.utils.to_categorical(y_test, num_classes)\n",
    "\n",
    "# Split the training set into a new training set and a validation set\n",
    "x_train, x_val, y_train, y_val = train_test_split(x_train_full, y_train_full, test_size=0.2, random_state=42)"
   ]
  },
  {
   "cell_type": "code",
   "execution_count": 53,
   "metadata": {},
   "outputs": [],
   "source": [
    "model = Sequential([\n",
    "    Conv2D(32, (3, 3), activation='relu', input_shape=(32, 32, 3)),\n",
    "    MaxPooling2D((2, 2)),\n",
    "    Conv2D(64, (3, 3), activation='relu'),\n",
    "    MaxPooling2D((2, 2)),\n",
    "    Flatten(),\n",
    "    Dense(128, activation='relu'),\n",
    "    Dense(num_classes, activation='softmax')\n",
    "])"
   ]
  },
  {
   "cell_type": "code",
   "execution_count": 54,
   "metadata": {},
   "outputs": [
    {
     "name": "stdout",
     "output_type": "stream",
     "text": [
      "Epoch 1/30\n",
      "1250/1250 [==============================] - 27s 21ms/step - loss: 1.7842 - accuracy: 0.3625 - val_loss: 1.5390 - val_accuracy: 0.4586\n",
      "Epoch 2/30\n",
      "1250/1250 [==============================] - 26s 21ms/step - loss: 1.4537 - accuracy: 0.4819 - val_loss: 1.3806 - val_accuracy: 0.5074\n",
      "Epoch 3/30\n",
      "1250/1250 [==============================] - 25s 20ms/step - loss: 1.3370 - accuracy: 0.5284 - val_loss: 1.3017 - val_accuracy: 0.5422\n",
      "Epoch 4/30\n",
      "1250/1250 [==============================] - 26s 21ms/step - loss: 1.2645 - accuracy: 0.5573 - val_loss: 1.2651 - val_accuracy: 0.5490\n",
      "Epoch 5/30\n",
      "1250/1250 [==============================] - 27s 21ms/step - loss: 1.2084 - accuracy: 0.5778 - val_loss: 1.2123 - val_accuracy: 0.5737\n",
      "Epoch 6/30\n",
      "1250/1250 [==============================] - 26s 21ms/step - loss: 1.1652 - accuracy: 0.5929 - val_loss: 1.1782 - val_accuracy: 0.5866\n",
      "Epoch 7/30\n",
      "1250/1250 [==============================] - 27s 21ms/step - loss: 1.1275 - accuracy: 0.6087 - val_loss: 1.1268 - val_accuracy: 0.6100\n",
      "Epoch 8/30\n",
      "1250/1250 [==============================] - 28s 22ms/step - loss: 1.0933 - accuracy: 0.6219 - val_loss: 1.1090 - val_accuracy: 0.6146\n",
      "Epoch 9/30\n",
      "1250/1250 [==============================] - 27s 21ms/step - loss: 1.0628 - accuracy: 0.6316 - val_loss: 1.0991 - val_accuracy: 0.6211\n",
      "Epoch 10/30\n",
      "1250/1250 [==============================] - 27s 21ms/step - loss: 1.0362 - accuracy: 0.6424 - val_loss: 1.1092 - val_accuracy: 0.6163\n",
      "Epoch 11/30\n",
      "1250/1250 [==============================] - 27s 21ms/step - loss: 1.0135 - accuracy: 0.6474 - val_loss: 1.0506 - val_accuracy: 0.6400\n",
      "Epoch 12/30\n",
      "1250/1250 [==============================] - 27s 21ms/step - loss: 0.9897 - accuracy: 0.6592 - val_loss: 1.0856 - val_accuracy: 0.6270\n",
      "Epoch 13/30\n",
      "1250/1250 [==============================] - 28s 22ms/step - loss: 0.9680 - accuracy: 0.6669 - val_loss: 1.0331 - val_accuracy: 0.6413\n",
      "Epoch 14/30\n",
      "1250/1250 [==============================] - 27s 22ms/step - loss: 0.9470 - accuracy: 0.6738 - val_loss: 1.0467 - val_accuracy: 0.6348\n",
      "Epoch 15/30\n",
      "1250/1250 [==============================] - 27s 21ms/step - loss: 0.9279 - accuracy: 0.6791 - val_loss: 1.0342 - val_accuracy: 0.6440\n",
      "Epoch 16/30\n",
      "1250/1250 [==============================] - 27s 21ms/step - loss: 0.9068 - accuracy: 0.6890 - val_loss: 1.0357 - val_accuracy: 0.6432\n",
      "Epoch 17/30\n",
      "1250/1250 [==============================] - 24s 19ms/step - loss: 0.8877 - accuracy: 0.6928 - val_loss: 0.9959 - val_accuracy: 0.6563\n",
      "Epoch 18/30\n",
      "1250/1250 [==============================] - 25s 20ms/step - loss: 0.8737 - accuracy: 0.6976 - val_loss: 0.9876 - val_accuracy: 0.6634\n",
      "Epoch 19/30\n",
      "1250/1250 [==============================] - 24s 19ms/step - loss: 0.8525 - accuracy: 0.7067 - val_loss: 1.0109 - val_accuracy: 0.6544\n",
      "Epoch 20/30\n",
      "1250/1250 [==============================] - 25s 20ms/step - loss: 0.8389 - accuracy: 0.7122 - val_loss: 0.9854 - val_accuracy: 0.6623\n",
      "Epoch 21/30\n",
      "1250/1250 [==============================] - 25s 20ms/step - loss: 0.8208 - accuracy: 0.7181 - val_loss: 0.9711 - val_accuracy: 0.6672\n",
      "Epoch 22/30\n",
      "1250/1250 [==============================] - 24s 19ms/step - loss: 0.8038 - accuracy: 0.7252 - val_loss: 0.9622 - val_accuracy: 0.6720\n",
      "Epoch 23/30\n",
      "1250/1250 [==============================] - 25s 20ms/step - loss: 0.7882 - accuracy: 0.7301 - val_loss: 0.9741 - val_accuracy: 0.6666\n",
      "Epoch 24/30\n",
      "1250/1250 [==============================] - 26s 21ms/step - loss: 0.7723 - accuracy: 0.7361 - val_loss: 0.9778 - val_accuracy: 0.6655\n",
      "Epoch 25/30\n",
      "1250/1250 [==============================] - 24s 19ms/step - loss: 0.7582 - accuracy: 0.7408 - val_loss: 0.9647 - val_accuracy: 0.6681\n",
      "Epoch 26/30\n",
      "1250/1250 [==============================] - 25s 20ms/step - loss: 0.7442 - accuracy: 0.7463 - val_loss: 0.9582 - val_accuracy: 0.6741\n",
      "Epoch 27/30\n",
      "1250/1250 [==============================] - 25s 20ms/step - loss: 0.7266 - accuracy: 0.7519 - val_loss: 0.9648 - val_accuracy: 0.6708\n",
      "Epoch 28/30\n",
      "1250/1250 [==============================] - 27s 22ms/step - loss: 0.7133 - accuracy: 0.7574 - val_loss: 0.9399 - val_accuracy: 0.6797\n",
      "Epoch 29/30\n",
      "1250/1250 [==============================] - 28s 22ms/step - loss: 0.7009 - accuracy: 0.7628 - val_loss: 0.9391 - val_accuracy: 0.6822\n",
      "Epoch 30/30\n",
      "1250/1250 [==============================] - 28s 23ms/step - loss: 0.6862 - accuracy: 0.7653 - val_loss: 0.9424 - val_accuracy: 0.6816\n"
     ]
    },
    {
     "data": {
      "text/plain": [
       "<keras.src.callbacks.History at 0x27342095900>"
      ]
     },
     "execution_count": 54,
     "metadata": {},
     "output_type": "execute_result"
    }
   ],
   "source": [
    "# Define the hyperparameter search space\n",
    "learning_rate = 0.0001\n",
    "batch_size = 32\n",
    "epochs = 30\n",
    "\n",
    "optimizer = Adam(learning_rate=learning_rate)\n",
    "model.compile(optimizer=optimizer,\n",
    "                loss='categorical_crossentropy',\n",
    "                metrics=['accuracy'])\n",
    "\n",
    "model.fit(x_train, y_train,\n",
    "          batch_size=batch_size,\n",
    "          epochs=epochs,\n",
    "          validation_data=(x_test, y_test),\n",
    "          verbose=1)"
   ]
  },
  {
   "cell_type": "code",
   "execution_count": 56,
   "metadata": {},
   "outputs": [
    {
     "name": "stdout",
     "output_type": "stream",
     "text": [
      "Test accuracy: 0.6816\n"
     ]
    }
   ],
   "source": [
    "# Evaluate the model on the test set\n",
    "test_loss, test_acc = model.evaluate(x_test, y_test, verbose=0)\n",
    "print(f'Test accuracy: {test_acc:.4f}')"
   ]
  }
 ],
 "metadata": {
  "kernelspec": {
   "display_name": "Python 3",
   "language": "python",
   "name": "python3"
  },
  "language_info": {
   "codemirror_mode": {
    "name": "ipython",
    "version": 3
   },
   "file_extension": ".py",
   "mimetype": "text/x-python",
   "name": "python",
   "nbconvert_exporter": "python",
   "pygments_lexer": "ipython3",
   "version": "3.10.6"
  }
 },
 "nbformat": 4,
 "nbformat_minor": 2
}
